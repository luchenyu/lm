{
 "cells": [
  {
   "cell_type": "markdown",
   "metadata": {},
   "source": [
    "Setting runtime environment"
   ]
  },
  {
   "cell_type": "code",
   "execution_count": null,
   "metadata": {},
   "outputs": [],
   "source": [
    "RUN_FROM = 'LOCAL'\n",
    "# RUN_FROM = 'COLAB'\n",
    "\n",
    "if RUN_FROM == 'LOCAL':\n",
    "    from os.path import expanduser\n",
    "    HOME = expanduser(\"~\")\n",
    "elif RUN_FROM == 'COLAB':\n",
    "    !pip install hanziconv\n",
    "    from google.colab import drive\n",
    "    drive.mount('/content/drive')\n",
    "    %cd /content/drive/My Drive/projects/lm\n",
    "    HOME = '/content/drive/My Drive'"
   ]
  },
  {
   "cell_type": "markdown",
   "metadata": {},
   "source": [
    "Import modules"
   ]
  },
  {
   "cell_type": "code",
   "execution_count": null,
   "metadata": {},
   "outputs": [],
   "source": [
    "import matplotlib.pyplot as plt\n",
    "import os, sys, time\n",
    "import tensorflow as tf\n",
    "from model import file_input_fn, lm_model_fn, lr_range_test, train_and_evaluate\n",
    "from utils import data_utils_py3"
   ]
  },
  {
   "cell_type": "markdown",
   "metadata": {},
   "source": [
    "Setting parameters"
   ]
  },
  {
   "cell_type": "code",
   "execution_count": null,
   "metadata": {},
   "outputs": [],
   "source": [
    "char_vocab_file = HOME+\"/Data/Vocab/vocab_zh\"\n",
    "word_vocab_file = HOME+\"/Data/Vocab/word_vocab_zh\"\n",
    "char_embedding_files = HOME+\"/Data/Vocab/zh_char_300_nlpcc.txt\"\n",
    "data_dir = HOME+\"/Data/text_zh\"\n",
    "if RUN_FROM == 'LOCAL':\n",
    "    train_dir = 'pretrain_zh_small'\n",
    "elif RUN_FROM == 'COLAB':\n",
    "    train_dir = HOME+'/Models/pretrain_zh_small'\n",
    "\n",
    "char_vocab = data_utils_py3.Vocab(\n",
    "    char_vocab_file,\n",
    "    embedding_files=char_embedding_files)\n",
    "char_vocab_size = char_vocab.size()\n",
    "\n",
    "params = {\n",
    "    'max_lr': 5e-5,\n",
    "    'num_steps': 200000,\n",
    "    'pct_start': 0.3,\n",
    "    'dropout': 0.1,\n",
    "    'wd': .0,\n",
    "    'char_vocab_size': char_vocab_size,\n",
    "    'char_vocab_dim': 300,\n",
    "    'char_vocab_emb': char_vocab.embedding_init,\n",
    "    'max_char_length': 8,\n",
    "    'layer_size': 256,\n",
    "    'num_layers': 3,\n",
    "    'data_spec': [{'type': 'seq', 'is_target': True, 'select_from': None}]\n",
    "}\n",
    "\n",
    "\n",
    "batch_size = 32\n",
    "num_pieces = 1\n",
    "max_lengths = [256]\n",
    "train_input_fn = lambda: file_input_fn(\n",
    "    char_vocab, os.path.join(data_dir, 'train'),\n",
    "    num_pieces, batch_size, max_lengths, True)\n",
    "eval_input_fn = lambda: file_input_fn(\n",
    "    char_vocab, os.path.join(data_dir, 'dev'),\n",
    "    num_pieces, batch_size, max_lengths, False)"
   ]
  },
  {
   "cell_type": "markdown",
   "metadata": {},
   "source": [
    "LR range test and plot the curve"
   ]
  },
  {
   "cell_type": "code",
   "execution_count": null,
   "metadata": {},
   "outputs": [],
   "source": [
    "lr_range_test(lm_model_fn, train_input_fn, params)"
   ]
  },
  {
   "cell_type": "markdown",
   "metadata": {},
   "source": [
    "Start train and eval loop"
   ]
  },
  {
   "cell_type": "code",
   "execution_count": null,
   "metadata": {},
   "outputs": [],
   "source": [
    "train_and_evaluate(\n",
    "    lm_model_fn, train_input_fn, eval_input_fn, train_dir, params, eval_every=10000)"
   ]
  }
 ],
 "metadata": {
  "kernelspec": {
   "display_name": "Python 3",
   "language": "python",
   "name": "python3"
  },
  "language_info": {
   "codemirror_mode": {
    "name": "ipython",
    "version": 3
   },
   "file_extension": ".py",
   "mimetype": "text/x-python",
   "name": "python",
   "nbconvert_exporter": "python",
   "pygments_lexer": "ipython3",
   "version": "3.6.3"
  }
 },
 "nbformat": 4,
 "nbformat_minor": 2
}
