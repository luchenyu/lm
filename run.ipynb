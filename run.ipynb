{
 "cells": [
  {
   "cell_type": "markdown",
   "metadata": {},
   "source": [
    "# Setting runtime environment"
   ]
  },
  {
   "cell_type": "code",
   "execution_count": null,
   "metadata": {},
   "outputs": [],
   "source": [
    "RUN_FROM = 'LOCAL'\n",
    "# RUN_FROM = 'COLAB'\n",
    "\n",
    "if RUN_FROM == 'LOCAL':\n",
    "    from os.path import expanduser\n",
    "    HOME = expanduser(\"~\")\n",
    "elif RUN_FROM == 'COLAB':\n",
    "    !pip install hanziconv\n",
    "    from google.colab import drive\n",
    "    drive.mount('/content/drive')\n",
    "    %cd /content/drive/My Drive/projects/lm\n",
    "    HOME = '/content/drive/My Drive'"
   ]
  },
  {
   "cell_type": "markdown",
   "metadata": {},
   "source": [
    "# Import modules"
   ]
  },
  {
   "cell_type": "code",
   "execution_count": null,
   "metadata": {},
   "outputs": [],
   "source": [
    "import os\n",
    "from data import Dataset\n",
    "from model import Model\n",
    "from routines import lr_range_test, train_and_evaluate, evaluate\n",
    "from utils import data_utils_py3\n",
    "# os.environ[\"CUDA_VISIBLE_DEVICES\"]=\"0,1,2,3\""
   ]
  },
  {
   "cell_type": "markdown",
   "metadata": {},
   "source": [
    "# Some presets"
   ]
  },
  {
   "cell_type": "markdown",
   "metadata": {},
   "source": [
    "## Get datasets"
   ]
  },
  {
   "cell_type": "code",
   "execution_count": null,
   "metadata": {},
   "outputs": [],
   "source": [
    "char_vocab_file = HOME+\"/Data/Vocab/char_vocab_zh\"\n",
    "char_embedding_files = HOME+\"/Data/Vocab/zh_char_300_nlpcc.txt\"\n",
    "char_vocab = data_utils_py3.AtomicVocab(\n",
    "    filename=char_vocab_file,\n",
    "    embedding_files=char_embedding_files)\n",
    "\n",
    "datasets = {\n",
    "    'text_zh': Dataset(HOME+\"/Data/text_zh\", char_vocab),\n",
    "    'nlpcc2017_news': Dataset(HOME+\"/Data/nlpcc2017_news\", char_vocab),\n",
    "    'smp2017_ecdt1': Dataset(HOME+\"/Data/smp2017_ecdt1\", char_vocab),\n",
    "}"
   ]
  },
  {
   "cell_type": "markdown",
   "metadata": {},
   "source": [
    "## Various model configs"
   ]
  },
  {
   "cell_type": "code",
   "execution_count": null,
   "metadata": {},
   "outputs": [],
   "source": [
    "model_configs = {\n",
    "    'small': {\n",
    "        'char_vocab_size': len(char_vocab),\n",
    "        'char_vocab_dim': 300,\n",
    "        'layer_size': 256,\n",
    "        'num_layers': 4,\n",
    "        'num_heads': 8,\n",
    "    },\n",
    "    'medium': {\n",
    "        'char_vocab_size': len(char_vocab),\n",
    "        'char_vocab_dim': 300,\n",
    "        'layer_size': 640,\n",
    "        'num_layers': 10,\n",
    "        'num_heads': 10,\n",
    "    },\n",
    "    'large': {\n",
    "        'char_vocab_size': len(char_vocab),\n",
    "        'char_vocab_dim': 300,\n",
    "        'layer_size': 1024,\n",
    "        'num_layers': 16,\n",
    "        'num_heads': 16,\n",
    "    },\n",
    "}\n",
    "\n",
    "def get_dir(dir_name, idx=None):\n",
    "    if idx != None:\n",
    "        dir_name += \"-{:d}\".format(idx)\n",
    "    if RUN_FROM == 'LOCAL':\n",
    "        dir_path = dir_name\n",
    "    elif RUN_FROM == 'COLAB':\n",
    "        dir_path = os.path.join(HOME+'/Models/', dir_name)\n",
    "    return dir_path"
   ]
  },
  {
   "cell_type": "markdown",
   "metadata": {},
   "source": [
    "## Various running configs"
   ]
  },
  {
   "cell_type": "code",
   "execution_count": null,
   "metadata": {},
   "outputs": [],
   "source": [
    "run_configs = {\n",
    "    'pretrain_zh': {\n",
    "        'batch_size': 32,\n",
    "        'max_lr': 5e-4,\n",
    "        'max_train_steps': 200000,\n",
    "        'pct_start': 0.3,\n",
    "        'dropout': 0.1,\n",
    "        'wd': 1e-6,\n",
    "        'data': [{'target_level': 1, 'max_token_length': 8, 'min_seq_length': 5, 'max_seq_length': 256}],\n",
    "    },\n",
    "    'seq2cls_zh': {\n",
    "        'batch_size': 128,\n",
    "        'max_lr': 5e-4,\n",
    "        'max_train_steps': 10000,\n",
    "        'pct_start': 0.3,\n",
    "        'dropout': 0.1,\n",
    "        'wd': 1e-6,\n",
    "        'data': [{'target_level': 0, 'max_token_length': 8, 'max_seq_length': 256},{'target_level': 1, 'max_token_length': 8}],\n",
    "    },\n",
    "}"
   ]
  },
  {
   "cell_type": "markdown",
   "metadata": {},
   "source": [
    "# Let's Begin!"
   ]
  },
  {
   "cell_type": "markdown",
   "metadata": {},
   "source": [
    "## Settings"
   ]
  },
  {
   "cell_type": "code",
   "execution_count": null,
   "metadata": {},
   "outputs": [],
   "source": [
    "# choose model_configs\n",
    "model_config_name = 'small'\n",
    "\n",
    "# choose datasets\n",
    "pretrain_dataset_name = 'text_zh'\n",
    "finetune_dataset_name = 'nlpcc2017_news'\n",
    "\n",
    "# choose run_configs\n",
    "pretrain_run_config_name = 'pretrain_zh'\n",
    "finetune_run_config_name = 'seq2cls_zh'\n",
    "\n",
    "# set model dirs\n",
    "pretrain_dir = get_dir('-'.join([pretrain_run_config_name, pretrain_dataset_name, model_config_name]))\n",
    "finetune_dir = lambda i: get_dir('-'.join([finetune_run_config_name, finetune_dataset_name, model_config_name]), i)\n",
    "\n",
    "# adjust pretrain_run_config\n",
    "pretrain_run_config = {}\n",
    "pretrain_run_config.update(run_configs[pretrain_run_config_name])\n",
    "pretrain_run_config.update(\n",
    "    {\n",
    "        'batch_size': 32,\n",
    "        'max_train_steps': 200000,\n",
    "    })\n",
    "\n",
    "#adjust finetune_run_config\n",
    "finetune_run_config = {}\n",
    "finetune_run_config.update(run_configs[finetune_run_config_name])\n",
    "finetune_run_config.update(\n",
    "    {\n",
    "        'batch_size': 128,\n",
    "        'max_train_steps': 20000,\n",
    "    })"
   ]
  },
  {
   "cell_type": "markdown",
   "metadata": {},
   "source": [
    "## Pretrain model"
   ]
  },
  {
   "cell_type": "markdown",
   "metadata": {},
   "source": [
    "### Create model"
   ]
  },
  {
   "cell_type": "code",
   "execution_count": null,
   "metadata": {},
   "outputs": [],
   "source": [
    "pretrain_model = Model(model_configs[model_config_name], char_vocab, pretrain_dir)"
   ]
  },
  {
   "cell_type": "markdown",
   "metadata": {},
   "source": [
    "### LR range test and plot the curve"
   ]
  },
  {
   "cell_type": "code",
   "execution_count": null,
   "metadata": {},
   "outputs": [],
   "source": [
    "lr_range_test(datasets[pretrain_dataset_name], pretrain_model, pretrain_run_config)"
   ]
  },
  {
   "cell_type": "markdown",
   "metadata": {},
   "source": [
    "### Adjust run config"
   ]
  },
  {
   "cell_type": "code",
   "execution_count": null,
   "metadata": {},
   "outputs": [],
   "source": [
    "pretrain_run_config.update(\n",
    "    {\n",
    "        'max_lr': 5e-4,\n",
    "        'dropout': 0.1,\n",
    "        'wd': 1e-6,\n",
    "    })"
   ]
  },
  {
   "cell_type": "markdown",
   "metadata": {},
   "source": [
    "### Start train and eval loop"
   ]
  },
  {
   "cell_type": "code",
   "execution_count": null,
   "metadata": {},
   "outputs": [],
   "source": [
    "train_and_evaluate(\n",
    "    datasets[pretrain_dataset_name], pretrain_model, pretrain_run_config,\n",
    "    eval_every=int(pretrain_run_config['max_train_steps']/4), distributed=True)"
   ]
  },
  {
   "cell_type": "code",
   "execution_count": null,
   "metadata": {},
   "outputs": [],
   "source": [
    "evaluate(datasets[pretrain_dataset_name], pretrain_model, pretrain_run_config)"
   ]
  },
  {
   "cell_type": "markdown",
   "metadata": {},
   "source": [
    "## Finetune down-stream task model"
   ]
  },
  {
   "cell_type": "markdown",
   "metadata": {},
   "source": [
    "### Create model"
   ]
  },
  {
   "cell_type": "code",
   "execution_count": null,
   "metadata": {},
   "outputs": [],
   "source": [
    "finetune_model = Model(model_configs[model_config_name], char_vocab, finetune_dir(0), pretrain_dir)"
   ]
  },
  {
   "cell_type": "markdown",
   "metadata": {},
   "source": [
    "### LR range test and plot the curve"
   ]
  },
  {
   "cell_type": "code",
   "execution_count": null,
   "metadata": {},
   "outputs": [],
   "source": [
    "lr_range_test(datasets[finetune_dataset_name], finetune_model, finetune_run_config)"
   ]
  },
  {
   "cell_type": "markdown",
   "metadata": {},
   "source": [
    "### Adjust run config"
   ]
  },
  {
   "cell_type": "code",
   "execution_count": null,
   "metadata": {},
   "outputs": [],
   "source": [
    "finetune_run_config.update(\n",
    "    {\n",
    "        'max_lr': 5e-4,\n",
    "        'dropout': 0.1,\n",
    "        'wd': 1e-6,\n",
    "    })"
   ]
  },
  {
   "cell_type": "markdown",
   "metadata": {},
   "source": [
    "### Start train and eval loop"
   ]
  },
  {
   "cell_type": "code",
   "execution_count": null,
   "metadata": {},
   "outputs": [],
   "source": [
    "train_and_evaluate(\n",
    "    datasets[finetune_dataset_name], finetune_model, finetune_run_config,\n",
    "    eval_every=int(finetune_run_config['max_train_steps']/2), distributed=False)"
   ]
  },
  {
   "cell_type": "markdown",
   "metadata": {},
   "source": [
    "### evaluation"
   ]
  },
  {
   "cell_type": "code",
   "execution_count": null,
   "metadata": {},
   "outputs": [],
   "source": [
    "evaluate(datasets[finetune_dataset_name], finetune_model, finetune_run_config)"
   ]
  }
 ],
 "metadata": {
  "kernelspec": {
   "display_name": "Python 3",
   "language": "python",
   "name": "python3"
  },
  "language_info": {
   "codemirror_mode": {
    "name": "ipython",
    "version": 3
   },
   "file_extension": ".py",
   "mimetype": "text/x-python",
   "name": "python",
   "nbconvert_exporter": "python",
   "pygments_lexer": "ipython3",
   "version": "3.6.3"
  }
 },
 "nbformat": 4,
 "nbformat_minor": 2
}
