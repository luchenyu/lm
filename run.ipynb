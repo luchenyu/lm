{
 "cells": [
  {
   "cell_type": "markdown",
   "metadata": {},
   "source": [
    "# Setting runtime environment"
   ]
  },
  {
   "cell_type": "code",
   "execution_count": null,
   "metadata": {},
   "outputs": [],
   "source": [
    "RUN_FROM = 'LOCAL'\n",
    "# RUN_FROM = 'COLAB'\n",
    "\n",
    "if RUN_FROM == 'LOCAL':\n",
    "    from os.path import expanduser\n",
    "    HOME = expanduser(\"~\")\n",
    "elif RUN_FROM == 'COLAB':\n",
    "    !pip install hanziconv\n",
    "    from google.colab import drive\n",
    "    drive.mount('/content/drive')\n",
    "    %cd /content/drive/My Drive/projects/lm\n",
    "    HOME = '/content/drive/My Drive'"
   ]
  },
  {
   "cell_type": "markdown",
   "metadata": {},
   "source": [
    "# Import modules"
   ]
  },
  {
   "cell_type": "code",
   "execution_count": null,
   "metadata": {},
   "outputs": [],
   "source": [
    "import os\n",
    "from data import Dataset\n",
    "from model import Model\n",
    "from routines import *\n",
    "from utils import data_utils_py3\n",
    "# os.environ[\"CUDA_VISIBLE_DEVICES\"]=\"0,1,2,3\""
   ]
  },
  {
   "cell_type": "markdown",
   "metadata": {},
   "source": [
    "# Some presets"
   ]
  },
  {
   "cell_type": "markdown",
   "metadata": {},
   "source": [
    "## CharVocabs"
   ]
  },
  {
   "cell_type": "code",
   "execution_count": null,
   "metadata": {},
   "outputs": [],
   "source": [
    "CharVocabs = {\n",
    "    'zh': {\n",
    "        'vocab_file': HOME+\"/Data/Vocab/char_vocab_zh\",\n",
    "        'embedding_files': HOME+\"/Data/Vocab/zh_char_300_nlpcc.txt\"\n",
    "    },\n",
    "    'en': {\n",
    "        'vocab_file': HOME+\"/Data/Vocab/char_vocab_en\",\n",
    "        'embedding_files': HOME+\"/Data/Vocab/en_char_300_minimaxir.txt\"\n",
    "    }\n",
    "}"
   ]
  },
  {
   "cell_type": "markdown",
   "metadata": {},
   "source": [
    "## DataSets"
   ]
  },
  {
   "cell_type": "code",
   "execution_count": null,
   "metadata": {},
   "outputs": [],
   "source": [
    "DataSets = {\n",
    "    'text_zh': HOME+\"/Data/text_zh\",\n",
    "    'nlpcc2017_news': HOME+\"/Data/nlpcc2017_news\",\n",
    "    'smp2017_ecdt1': HOME+\"/Data/smp2017_ecdt1\",\n",
    "}"
   ]
  },
  {
   "cell_type": "markdown",
   "metadata": {},
   "source": [
    "## ModelConfigs"
   ]
  },
  {
   "cell_type": "code",
   "execution_count": null,
   "metadata": {},
   "outputs": [],
   "source": [
    "ModelConfigs = {\n",
    "    'small': {\n",
    "        'char_embed_dim': 300,\n",
    "        'layer_size': 256,\n",
    "        'num_layers': 4,\n",
    "        'num_heads': 8,\n",
    "    },\n",
    "    'medium': {\n",
    "        'char_embed_dim': 300,\n",
    "        'layer_size': 640,\n",
    "        'num_layers': 10,\n",
    "        'num_heads': 10,\n",
    "    },\n",
    "    'large': {\n",
    "        'char_embed_dim': 300,\n",
    "        'layer_size': 896,\n",
    "        'num_layers': 16,\n",
    "        'num_heads': 14,\n",
    "    },\n",
    "}"
   ]
  },
  {
   "cell_type": "markdown",
   "metadata": {},
   "source": [
    "## TaskConfigs"
   ]
  },
  {
   "cell_type": "code",
   "execution_count": null,
   "metadata": {},
   "outputs": [],
   "source": [
    "TaskConfigs = {\n",
    "    'pretrain': {\n",
    "        'task_spec': [\n",
    "            {\n",
    "                'type': 'sequence',\n",
    "                'copy_from': [],\n",
    "                'target_level': 0,\n",
    "                'group_id': 0,\n",
    "            },\n",
    "        ],\n",
    "    },\n",
    "    'seq2cls': {\n",
    "        'task_spec': [\n",
    "            {\n",
    "                'type': 'sequence',\n",
    "                'copy_from': [],\n",
    "                'target_level': 0,\n",
    "                'group_id': 0,\n",
    "            },\n",
    "            {\n",
    "                'type': 'class',\n",
    "                'copy_from': [],\n",
    "                'target_level': 1,\n",
    "                'group_id': 1,\n",
    "            },\n",
    "        ],\n",
    "    },\n",
    "}"
   ]
  },
  {
   "cell_type": "markdown",
   "metadata": {},
   "source": [
    "## Change run_config here"
   ]
  },
  {
   "cell_type": "code",
   "execution_count": null,
   "metadata": {},
   "outputs": [],
   "source": [
    "run_config = {\n",
    "    'task_config_name': 'pretrain',\n",
    "    'char_vocab_name': 'zh',\n",
    "    'model_config_name': 'small',\n",
    "    'model_name': 'iter0',\n",
    "#     'warm_start_from': {\n",
    "#         'task_config_name': 'pretrain',\n",
    "#         'model_name': 'iter0',\n",
    "#         'vars_to_warm_start': '.*',\n",
    "#     },\n",
    "    'dataset_name': 'text_zh',\n",
    "    'field_mapping': [0],\n",
    "    'hyper_params': {\n",
    "        'batch_size': 32,\n",
    "        'max_train_steps': 100000,\n",
    "        'max_lr': 5e-4,\n",
    "        'pct_start': 0.3,\n",
    "        'dropout': 0.1,\n",
    "        'wd': 1e-6,\n",
    "    },\n",
    "}\n",
    "\n",
    "char_vocab = data_utils_py3.AtomicVocab(\n",
    "    filename=CharVocabs[run_config['char_vocab_name']]['vocab_file'],\n",
    "    embedding_files=CharVocabs[run_config['char_vocab_name']]['embedding_files'])\n",
    "dataset = Dataset(DataSets[run_config['dataset_name']], char_vocab)\n",
    "def get_model_dir(*args):\n",
    "    dir_name = '-'.join(args)\n",
    "    if RUN_FROM == 'LOCAL':\n",
    "        dir_path = dir_name\n",
    "    elif RUN_FROM == 'COLAB':\n",
    "        dir_path = os.path.join(HOME+'/Models/', dir_name)\n",
    "    return dir_path\n",
    "train_dir = get_model_dir(\n",
    "    run_config['task_config_name'],\n",
    "    run_config['char_vocab_name'],\n",
    "    run_config['model_config_name'],\n",
    "    run_config['model_name'])\n",
    "warm_start_from = run_config.get('warm_start_from')\n",
    "if warm_start_from is None:\n",
    "    pretrain_dir = None\n",
    "    vars_to_warm_start = None\n",
    "else:\n",
    "    pretrain_dir = get_model_dir(\n",
    "        warm_start_from['task_config_name'],\n",
    "        run_config['char_vocab_name'],\n",
    "        run_config['model_config_name'],\n",
    "        warm_start_from['model_name'])\n",
    "    vars_to_warm_start = warm_start_from['vars_to_warm_start']\n",
    "model = Model(\n",
    "    ModelConfigs[run_config['model_config_name']],\n",
    "    TaskConfigs[run_config['task_config_name']],\n",
    "    char_vocab,\n",
    "    train_dir,\n",
    "    pretrain_dir=pretrain_dir,\n",
    "    vars_to_warm_start=vars_to_warm_start)"
   ]
  },
  {
   "cell_type": "markdown",
   "metadata": {},
   "source": [
    "# Let's Begin!"
   ]
  },
  {
   "cell_type": "markdown",
   "metadata": {},
   "source": [
    "## LR range test and plot the curve"
   ]
  },
  {
   "cell_type": "code",
   "execution_count": null,
   "metadata": {},
   "outputs": [],
   "source": [
    "lr_range_test(\n",
    "    dataset, model.unfreeze(),\n",
    "    run_config['field_mapping'], run_config['hyper_params'])"
   ]
  },
  {
   "cell_type": "markdown",
   "metadata": {},
   "source": [
    "## Adjust hyper_params"
   ]
  },
  {
   "cell_type": "code",
   "execution_count": null,
   "metadata": {},
   "outputs": [],
   "source": [
    "run_config['hyper_params'].update(\n",
    "    {\n",
    "        'max_lr': 5e-4,\n",
    "    })"
   ]
  },
  {
   "cell_type": "markdown",
   "metadata": {},
   "source": [
    "## Start train and eval loop"
   ]
  },
  {
   "cell_type": "code",
   "execution_count": null,
   "metadata": {},
   "outputs": [],
   "source": [
    "train_and_evaluate(\n",
    "    dataset, model.unfreeze(),\n",
    "    run_config['field_mapping'], run_config['hyper_params'],\n",
    "    eval_every=int(run_config['hyper_params']['max_train_steps']/4),\n",
    "    distributed=True)"
   ]
  },
  {
   "cell_type": "markdown",
   "metadata": {},
   "source": [
    "## Evaluate"
   ]
  },
  {
   "cell_type": "code",
   "execution_count": null,
   "metadata": {},
   "outputs": [],
   "source": [
    "evaluate(\n",
    "    dataset, model,\n",
    "    run_config['field_mapping'], run_config['hyper_params'])"
   ]
  },
  {
   "cell_type": "markdown",
   "metadata": {},
   "source": [
    "## Predict"
   ]
  },
  {
   "cell_type": "code",
   "execution_count": null,
   "metadata": {},
   "outputs": [],
   "source": [
    "predict(dataset, model,\n",
    "    run_config['field_mapping'], run_config['hyper_params'])"
   ]
  }
 ],
 "metadata": {
  "kernelspec": {
   "display_name": "Python 3",
   "language": "python",
   "name": "python3"
  },
  "language_info": {
   "codemirror_mode": {
    "name": "ipython",
    "version": 3
   },
   "file_extension": ".py",
   "mimetype": "text/x-python",
   "name": "python",
   "nbconvert_exporter": "python",
   "pygments_lexer": "ipython3",
   "version": "3.6.3"
  }
 },
 "nbformat": 4,
 "nbformat_minor": 2
}
