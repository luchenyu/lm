{
 "cells": [
  {
   "cell_type": "markdown",
   "metadata": {},
   "source": [
    "Setting runtime environment"
   ]
  },
  {
   "cell_type": "code",
   "execution_count": null,
   "metadata": {},
   "outputs": [],
   "source": [
    "RUN_FROM = 'LOCAL'\n",
    "# RUN_FROM = 'COLAB'\n",
    "\n",
    "if RUN_FROM == 'LOCAL':\n",
    "    from os.path import expanduser\n",
    "    HOME = expanduser(\"~\")\n",
    "elif RUN_FROM == 'COLAB':\n",
    "    !pip install hanziconv\n",
    "    from google.colab import drive\n",
    "    drive.mount('/content/drive')\n",
    "    %cd /content/drive/My Drive/projects/lm\n",
    "    HOME = '/content/drive/My Drive'"
   ]
  },
  {
   "cell_type": "markdown",
   "metadata": {},
   "source": [
    "Import modules"
   ]
  },
  {
   "cell_type": "code",
   "execution_count": null,
   "metadata": {},
   "outputs": [],
   "source": [
    "import os\n",
    "from data import Dataset\n",
    "from model import Model\n",
    "from routines import lr_range_test, train_and_evaluate\n",
    "from utils import data_utils_py3"
   ]
  },
  {
   "cell_type": "markdown",
   "metadata": {},
   "source": [
    "Setting parameters"
   ]
  },
  {
   "cell_type": "code",
   "execution_count": null,
   "metadata": {},
   "outputs": [],
   "source": [
    "if RUN_FROM == 'LOCAL':\n",
    "    train_dir = 'pretrain_zh_small'\n",
    "elif RUN_FROM == 'COLAB':\n",
    "    train_dir = HOME+'/Models/pretrain_zh_small'\n",
    "\n",
    "data_dir = HOME+\"/Data/text_zh\"\n",
    "char_vocab_file = HOME+\"/Data/Vocab/vocab_zh\"\n",
    "char_embedding_files = HOME+\"/Data/Vocab/zh_char_300_nlpcc.txt\"\n",
    "char_vocab = data_utils_py3.Vocab(\n",
    "    char_vocab_file,\n",
    "    embedding_files=char_embedding_files)\n",
    "dataset = Dataset(data_dir, char_vocab)\n",
    "\n",
    "model_config = {\n",
    "    'char_vocab_size': char_vocab.size(),\n",
    "    'char_vocab_dim': 300,\n",
    "    'char_vocab_emb': char_vocab.embedding_init,\n",
    "    'layer_size': 256,\n",
    "    'num_layers': 3,\n",
    "}\n",
    "model = Model(model_config)\n",
    "\n",
    "run_config = {\n",
    "    'batch_size': 32,\n",
    "    'max_lr': 5e-5,\n",
    "    'max_train_steps': 200000,\n",
    "    'pct_start': 0.3,\n",
    "    'dropout': 0.1,\n",
    "    'wd': .0,\n",
    "    'max_char_length': 8,\n",
    "    'data': [{'is_target': True, 'max_token_length': 8, 'min_seq_length': 2, 'max_seq_length': 256},],\n",
    "}"
   ]
  },
  {
   "cell_type": "markdown",
   "metadata": {},
   "source": [
    "LR range test and plot the curve"
   ]
  },
  {
   "cell_type": "code",
   "execution_count": null,
   "metadata": {},
   "outputs": [],
   "source": [
    "lr_range_test(dataset, model, run_config)"
   ]
  },
  {
   "cell_type": "markdown",
   "metadata": {},
   "source": [
    "Start train and eval loop"
   ]
  },
  {
   "cell_type": "code",
   "execution_count": null,
   "metadata": {},
   "outputs": [],
   "source": [
    "train_and_evaluate(\n",
    "    dataset, model, run_config, train_dir, eval_every=10000)"
   ]
  }
 ],
 "metadata": {
  "kernelspec": {
   "display_name": "Python 3",
   "language": "python",
   "name": "python3"
  },
  "language_info": {
   "codemirror_mode": {
    "name": "ipython",
    "version": 3
   },
   "file_extension": ".py",
   "mimetype": "text/x-python",
   "name": "python",
   "nbconvert_exporter": "python",
   "pygments_lexer": "ipython3",
   "version": "3.6.3"
  }
 },
 "nbformat": 4,
 "nbformat_minor": 2
}
