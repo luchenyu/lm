{
 "cells": [
  {
   "cell_type": "markdown",
   "metadata": {},
   "source": [
    "# Setting runtime environment"
   ]
  },
  {
   "cell_type": "code",
   "execution_count": null,
   "metadata": {},
   "outputs": [],
   "source": [
    "RUN_FROM = 'LOCAL'\n",
    "# RUN_FROM = 'COLAB'\n",
    "\n",
    "if RUN_FROM == 'LOCAL':\n",
    "    from os.path import expanduser\n",
    "    HOME = expanduser(\"~\")\n",
    "elif RUN_FROM == 'COLAB':\n",
    "    !pip install hanziconv\n",
    "    from google.colab import drive\n",
    "    drive.mount('/content/drive')\n",
    "    %cd /content/drive/My Drive/projects/lm\n",
    "    HOME = '/content/drive/My Drive'"
   ]
  },
  {
   "cell_type": "markdown",
   "metadata": {},
   "source": [
    "# Import modules"
   ]
  },
  {
   "cell_type": "code",
   "execution_count": null,
   "metadata": {},
   "outputs": [],
   "source": [
    "import os\n",
    "from data import Dataset\n",
    "from model import Model\n",
    "from routines import lr_range_test, train_and_evaluate\n",
    "from utils import data_utils_py3\n",
    "os.environ[\"CUDA_VISIBLE_DEVICES\"]=\"0,1,2,3\""
   ]
  },
  {
   "cell_type": "markdown",
   "metadata": {},
   "source": [
    "# Setting parameters"
   ]
  },
  {
   "cell_type": "markdown",
   "metadata": {},
   "source": [
    "## Dataset"
   ]
  },
  {
   "cell_type": "code",
   "execution_count": null,
   "metadata": {},
   "outputs": [],
   "source": [
    "char_vocab_file = HOME+\"/Data/Vocab/vocab_zh\"\n",
    "char_embedding_files = HOME+\"/Data/Vocab/zh_char_300_nlpcc.txt\"\n",
    "char_vocab = data_utils_py3.Vocab(\n",
    "    char_vocab_file,\n",
    "    embedding_files=char_embedding_files)\n",
    "\n",
    "text_zh_dataset = Dataset(HOME+\"/Data/text_zh\", char_vocab)\n",
    "news_nlpcc2017_dataset = Dataset(HOME+\"/Data/news_nlpcc2017\", char_vocab)"
   ]
  },
  {
   "cell_type": "markdown",
   "metadata": {},
   "source": [
    "## Model"
   ]
  },
  {
   "cell_type": "code",
   "execution_count": null,
   "metadata": {},
   "outputs": [],
   "source": [
    "small_model_config = {\n",
    "    'char_vocab_size': char_vocab.size(),\n",
    "    'char_vocab_dim': 300,\n",
    "    'char_vocab_emb': char_vocab.embedding_init.tolist(),\n",
    "    'layer_size': 256,\n",
    "    'num_layers': 3,\n",
    "}\n",
    "big_model_config = {\n",
    "    'char_vocab_size': char_vocab.size(),\n",
    "    'char_vocab_dim': 300,\n",
    "    'char_vocab_emb': char_vocab.embedding_init.tolist(),\n",
    "    'layer_size': 512,\n",
    "    'num_layers': 16,\n",
    "}\n",
    "\n",
    "def get_dir(dir_name):\n",
    "    if RUN_FROM == 'LOCAL':\n",
    "        dir_path = dir_name\n",
    "    elif RUN_FROM == 'COLAB':\n",
    "        dir_path = os.path.join(HOME+'/Models/', dir_name)\n",
    "    return dir_path"
   ]
  },
  {
   "cell_type": "markdown",
   "metadata": {},
   "source": [
    "## Run"
   ]
  },
  {
   "cell_type": "code",
   "execution_count": null,
   "metadata": {},
   "outputs": [],
   "source": [
    "pretrain_run_config = {\n",
    "    'batch_size': 32,\n",
    "    'max_lr': 1e-4,\n",
    "    'max_train_steps': 200000,\n",
    "    'pct_start': 0.3,\n",
    "    'dropout': 0.1,\n",
    "    'wd': 1e-6,\n",
    "    'data': [{'is_target': True, 'max_token_length': 8, 'min_seq_length': 2, 'max_seq_length': 256}],\n",
    "}\n",
    "seq2cls_run_config = {\n",
    "    'batch_size': 128,\n",
    "    'max_lr': 5e-5,\n",
    "    'max_train_steps': 20000,\n",
    "    'pct_start': 0.3,\n",
    "    'dropout': 0.1,\n",
    "    'wd': 1e-6,\n",
    "    'data': [{'is_target': False, 'max_token_length': 8, 'min_seq_length': 2, 'max_seq_length': 256},{'is_target': True, 'max_token_length': 8}],\n",
    "}"
   ]
  },
  {
   "cell_type": "markdown",
   "metadata": {},
   "source": [
    "# Let's Begin!"
   ]
  },
  {
   "cell_type": "markdown",
   "metadata": {},
   "source": [
    "## Pretrain model"
   ]
  },
  {
   "cell_type": "markdown",
   "metadata": {},
   "source": [
    "### Create model"
   ]
  },
  {
   "cell_type": "code",
   "execution_count": null,
   "metadata": {},
   "outputs": [],
   "source": [
    "pretrain_small_model = Model(small_model_config, get_dir('pretrain_zh_small'))"
   ]
  },
  {
   "cell_type": "markdown",
   "metadata": {},
   "source": [
    "### LR range test and plot the curve"
   ]
  },
  {
   "cell_type": "code",
   "execution_count": null,
   "metadata": {},
   "outputs": [],
   "source": [
    "lr_range_test(text_zh_dataset, pretrain_small_model, pretrain_run_config, num_steps=1000)"
   ]
  },
  {
   "cell_type": "markdown",
   "metadata": {},
   "source": [
    "### Adjust run config"
   ]
  },
  {
   "cell_type": "code",
   "execution_count": null,
   "metadata": {},
   "outputs": [],
   "source": [
    "pretrain_run_config = {\n",
    "    'batch_size': 32,\n",
    "    'max_lr': 1e-4,\n",
    "    'max_train_steps': 200000,\n",
    "    'pct_start': 0.3,\n",
    "    'dropout': 0.1,\n",
    "    'wd': 1e-6,\n",
    "    'data': [{'is_target': True, 'max_token_length': 8, 'min_seq_length': 2, 'max_seq_length': 256}],\n",
    "}"
   ]
  },
  {
   "cell_type": "markdown",
   "metadata": {},
   "source": [
    "### Start train and eval loop"
   ]
  },
  {
   "cell_type": "code",
   "execution_count": null,
   "metadata": {},
   "outputs": [],
   "source": [
    "train_and_evaluate(\n",
    "    text_zh_dataset, pretrain_small_model, pretrain_run_config, eval_every=10000, distributed=True)"
   ]
  },
  {
   "cell_type": "markdown",
   "metadata": {},
   "source": [
    "## Finetune down-stream task model"
   ]
  },
  {
   "cell_type": "markdown",
   "metadata": {},
   "source": [
    "### Create model"
   ]
  },
  {
   "cell_type": "code",
   "execution_count": null,
   "metadata": {},
   "outputs": [],
   "source": [
    "new_nlpcc2017_small_model = Model(small_model_config, get_dir('news_nlpcc2017_small'), get_dir('pretrain_zh_small'))"
   ]
  },
  {
   "cell_type": "markdown",
   "metadata": {},
   "source": [
    "### LR range test and plot the curve"
   ]
  },
  {
   "cell_type": "code",
   "execution_count": null,
   "metadata": {},
   "outputs": [],
   "source": [
    "lr_range_test(news_nlpcc2017_dataset, news_nlpcc2017_small_model, seq2cls_run_config, num_steps=1000)"
   ]
  },
  {
   "cell_type": "markdown",
   "metadata": {},
   "source": [
    "### Adjust run config"
   ]
  },
  {
   "cell_type": "code",
   "execution_count": null,
   "metadata": {},
   "outputs": [],
   "source": [
    "seq2cls_run_config = {\n",
    "    'batch_size': 128,\n",
    "    'max_lr': 5e-5,\n",
    "    'max_train_steps': 20000,\n",
    "    'pct_start': 0.3,\n",
    "    'dropout': 0.1,\n",
    "    'wd': 1e-6,\n",
    "    'data': [{'is_target': False, 'max_token_length': 8, 'min_seq_length': 2, 'max_seq_length': 256},{'is_target': True, 'max_token_length': 8}],\n",
    "}"
   ]
  },
  {
   "cell_type": "markdown",
   "metadata": {},
   "source": [
    "### Start train and eval loop"
   ]
  },
  {
   "cell_type": "code",
   "execution_count": null,
   "metadata": {},
   "outputs": [],
   "source": [
    "train_and_evaluate(\n",
    "    news_nlpcc2017_dataset, news_nlpcc2017_small_model, seq2cls_run_config, eval_every=10000, distributed=False)"
   ]
  }
 ],
 "metadata": {
  "kernelspec": {
   "display_name": "Python 3",
   "language": "python",
   "name": "python3"
  },
  "language_info": {
   "codemirror_mode": {
    "name": "ipython",
    "version": 3
   },
   "file_extension": ".py",
   "mimetype": "text/x-python",
   "name": "python",
   "nbconvert_exporter": "python",
   "pygments_lexer": "ipython3",
   "version": "3.5.2"
  }
 },
 "nbformat": 4,
 "nbformat_minor": 2
}
