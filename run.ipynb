{
 "cells": [
  {
   "cell_type": "markdown",
   "metadata": {},
   "source": [
    "# Setting runtime environment"
   ]
  },
  {
   "cell_type": "code",
   "execution_count": null,
   "metadata": {},
   "outputs": [],
   "source": [
    "RUN_FROM = 'LOCAL'\n",
    "# RUN_FROM = 'COLAB'\n",
    "\n",
    "if RUN_FROM == 'LOCAL':\n",
    "    from os.path import expanduser\n",
    "    HOME = expanduser(\"~\")\n",
    "elif RUN_FROM == 'COLAB':\n",
    "    !pip install hanziconv\n",
    "    from google.colab import drive\n",
    "    drive.mount('/content/drive')\n",
    "    %cd /content/drive/My Drive/projects/lm\n",
    "    HOME = '/content/drive/My Drive'"
   ]
  },
  {
   "cell_type": "markdown",
   "metadata": {},
   "source": [
    "# Import modules"
   ]
  },
  {
   "cell_type": "code",
   "execution_count": null,
   "metadata": {},
   "outputs": [],
   "source": [
    "import os\n",
    "from data import Dataset\n",
    "from model import Model\n",
    "from routines import lr_range_test, train_and_evaluate, evaluate\n",
    "from utils import data_utils_py3\n",
    "os.environ[\"CUDA_VISIBLE_DEVICES\"]=\"0,1,2,3\""
   ]
  },
  {
   "cell_type": "markdown",
   "metadata": {},
   "source": [
    "# Some presets"
   ]
  },
  {
   "cell_type": "markdown",
   "metadata": {},
   "source": [
    "## Get datasets"
   ]
  },
  {
   "cell_type": "code",
   "execution_count": null,
   "metadata": {},
   "outputs": [],
   "source": [
    "char_vocab_file = HOME+\"/Data/Vocab/vocab_zh\"\n",
    "char_embedding_files = HOME+\"/Data/Vocab/zh_char_300_nlpcc.txt\"\n",
    "char_vocab = data_utils_py3.Vocab(\n",
    "    char_vocab_file,\n",
    "    embedding_files=char_embedding_files)\n",
    "\n",
    "text_zh_dataset = Dataset(HOME+\"/Data/text_zh\", char_vocab)\n",
    "nlpcc2017_news_dataset = Dataset(HOME+\"/Data/nlpcc2017_news\", char_vocab)\n",
    "smp2017_ecdt1_dataset = Dataset(HOME+\"/Data/smp2017_ecdt1\", char_vocab)"
   ]
  },
  {
   "cell_type": "markdown",
   "metadata": {},
   "source": [
    "## Various model configs"
   ]
  },
  {
   "cell_type": "code",
   "execution_count": null,
   "metadata": {},
   "outputs": [],
   "source": [
    "small_model_config = {\n",
    "    'char_vocab_size': char_vocab.size(),\n",
    "    'char_vocab_dim': 300,\n",
    "    'char_vocab_emb': char_vocab.embedding_init.tolist(),\n",
    "    'layer_size': 256,\n",
    "    'num_layers': 4,\n",
    "}\n",
    "big_model_config = {\n",
    "    'char_vocab_size': char_vocab.size(),\n",
    "    'char_vocab_dim': 300,\n",
    "    'char_vocab_emb': char_vocab.embedding_init.tolist(),\n",
    "    'layer_size': 768,\n",
    "    'num_layers': 12,\n",
    "}\n",
    "\n",
    "def get_dir(dir_name):\n",
    "    if RUN_FROM == 'LOCAL':\n",
    "        dir_path = dir_name\n",
    "    elif RUN_FROM == 'COLAB':\n",
    "        dir_path = os.path.join(HOME+'/Models/', dir_name)\n",
    "    return dir_path"
   ]
  },
  {
   "cell_type": "markdown",
   "metadata": {},
   "source": [
    "## Various running configs"
   ]
  },
  {
   "cell_type": "code",
   "execution_count": null,
   "metadata": {},
   "outputs": [],
   "source": [
    "pretrain_zh_run_config = {\n",
    "    'batch_size': 32,\n",
    "    'max_lr': 3e-4,\n",
    "    'max_train_steps': 200000,\n",
    "    'pct_start': 0.3,\n",
    "    'dropout': 0.1,\n",
    "    'wd': 1e-6,\n",
    "    'data': [{'is_target': True, 'max_token_length': 8, 'min_seq_length': 2, 'max_seq_length': 256}],\n",
    "}\n",
    "seq2cls_zh_run_config = {\n",
    "    'batch_size': 64,\n",
    "    'max_lr': 5e-5,\n",
    "    'max_train_steps': 10000,\n",
    "    'pct_start': 0.3,\n",
    "    'dropout': 0.1,\n",
    "    'wd': 1e-6,\n",
    "    'data': [{'is_target': False, 'max_token_length': 8, 'min_seq_length': 2, 'max_seq_length': 256},{'is_target': True, 'max_token_length': 8}],\n",
    "}"
   ]
  },
  {
   "cell_type": "markdown",
   "metadata": {},
   "source": [
    "# Let's Begin!"
   ]
  },
  {
   "cell_type": "markdown",
   "metadata": {},
   "source": [
    "## Settings"
   ]
  },
  {
   "cell_type": "code",
   "execution_count": null,
   "metadata": {},
   "outputs": [],
   "source": [
    "# choose model\n",
    "model_config = small_model_config\n",
    "\n",
    "# choose datasets\n",
    "pretrain_dataset = text_zh_dataset\n",
    "finetune_dataset = nlpcc2017_news_dataset\n",
    "\n",
    "# choose model dirs\n",
    "pretrain_dir = get_dir('pretrain_zh_small')\n",
    "finetune_dir = get_dir('nlpcc2017_news_small')\n",
    "\n",
    "# adjust pretrain_run_config\n",
    "pretrain_run_config = {}\n",
    "pretrain_run_config.update(pretrain_zh_run_config)\n",
    "pretrain_run_config.update(\n",
    "    {\n",
    "        'batch_size': 32,\n",
    "        'max_train_steps': 200000,\n",
    "    })\n",
    "\n",
    "#adjust finetune_run_config\n",
    "finetune_run_config = {}\n",
    "finetune_run_config.update(seq2cls_zh_run_config)\n",
    "finetune_run_config.update(\n",
    "    {\n",
    "        'batch_size': 64,\n",
    "        'max_train_steps': 10000,\n",
    "    })"
   ]
  },
  {
   "cell_type": "markdown",
   "metadata": {},
   "source": [
    "## Pretrain model"
   ]
  },
  {
   "cell_type": "markdown",
   "metadata": {},
   "source": [
    "### Create model"
   ]
  },
  {
   "cell_type": "code",
   "execution_count": null,
   "metadata": {},
   "outputs": [],
   "source": [
    "pretrain_model = Model(model_config, pretrain_dir)"
   ]
  },
  {
   "cell_type": "markdown",
   "metadata": {},
   "source": [
    "### LR range test and plot the curve"
   ]
  },
  {
   "cell_type": "code",
   "execution_count": null,
   "metadata": {},
   "outputs": [],
   "source": [
    "lr_range_test(pretrain_dataset, pretrain_model, pretrain_run_config, num_steps=1000)"
   ]
  },
  {
   "cell_type": "markdown",
   "metadata": {},
   "source": [
    "### Adjust run config"
   ]
  },
  {
   "cell_type": "code",
   "execution_count": null,
   "metadata": {},
   "outputs": [],
   "source": [
    "pretrain_run_config.update(\n",
    "    {\n",
    "        'max_lr': 3e-4,\n",
    "        'dropout': 0.1,\n",
    "        'wd': 1e-6,\n",
    "    })"
   ]
  },
  {
   "cell_type": "markdown",
   "metadata": {},
   "source": [
    "### Start train and eval loop"
   ]
  },
  {
   "cell_type": "code",
   "execution_count": null,
   "metadata": {},
   "outputs": [],
   "source": [
    "train_and_evaluate(\n",
    "    pretrain_dataset, pretrain_model, pretrain_run_config, eval_every=50000, distributed=True)"
   ]
  },
  {
   "cell_type": "markdown",
   "metadata": {},
   "source": [
    "## Finetune down-stream task model"
   ]
  },
  {
   "cell_type": "markdown",
   "metadata": {},
   "source": [
    "### Create model"
   ]
  },
  {
   "cell_type": "code",
   "execution_count": null,
   "metadata": {},
   "outputs": [],
   "source": [
    "finetune_model = Model(model_config, finetune_dir, pretrain_dir)"
   ]
  },
  {
   "cell_type": "markdown",
   "metadata": {},
   "source": [
    "### LR range test and plot the curve"
   ]
  },
  {
   "cell_type": "code",
   "execution_count": null,
   "metadata": {},
   "outputs": [],
   "source": [
    "lr_range_test(finetune_dataset, finetune_model, finetune_run_config, num_steps=1000)"
   ]
  },
  {
   "cell_type": "markdown",
   "metadata": {},
   "source": [
    "### Adjust run config"
   ]
  },
  {
   "cell_type": "code",
   "execution_count": null,
   "metadata": {},
   "outputs": [],
   "source": [
    "finetune_run_config.update(\n",
    "    {\n",
    "        'max_lr': 5e-5,\n",
    "        'dropout': 0.1,\n",
    "        'wd': 1e-6,\n",
    "    })"
   ]
  },
  {
   "cell_type": "markdown",
   "metadata": {},
   "source": [
    "### Start train and eval loop"
   ]
  },
  {
   "cell_type": "code",
   "execution_count": null,
   "metadata": {},
   "outputs": [],
   "source": [
    "train_and_evaluate(\n",
    "    finetune_dataset, finetune_model, finetune_run_config, eval_every=10000, distributed=False)"
   ]
  },
  {
   "cell_type": "markdown",
   "metadata": {},
   "source": [
    "### evaluation"
   ]
  },
  {
   "cell_type": "code",
   "execution_count": null,
   "metadata": {},
   "outputs": [],
   "source": [
    "evaluate(finetune_dataset, finetune_model, finetune_run_config)"
   ]
  }
 ],
 "metadata": {
  "kernelspec": {
   "display_name": "Python 3",
   "language": "python",
   "name": "python3"
  },
  "language_info": {
   "codemirror_mode": {
    "name": "ipython",
    "version": 3
   },
   "file_extension": ".py",
   "mimetype": "text/x-python",
   "name": "python",
   "nbconvert_exporter": "python",
   "pygments_lexer": "ipython3",
   "version": "3.5.2"
  }
 },
 "nbformat": 4,
 "nbformat_minor": 2
}
